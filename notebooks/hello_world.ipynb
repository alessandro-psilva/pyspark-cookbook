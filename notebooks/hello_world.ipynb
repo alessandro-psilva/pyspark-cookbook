{
 "cells": [
  {
   "cell_type": "code",
   "execution_count": null,
   "id": "a61d2ac8-13cd-41b1-b1d8-226169490aba",
   "metadata": {},
   "outputs": [],
   "source": [
    "from pyspark.sql import SparkSession\n",
    "from pyspark.sql import functions as F\n",
    "\n",
    "\n",
    "spark = (\n",
    "    SparkSession.builder \n",
    "                .appName(\"HelloWorld\")\n",
    "                .config(\"spark.executor.cores\", \"3\")\n",
    "                .config(\"spark.executor.memory\", \"6g\")\n",
    "                .config(\"spark.executor.instances\", \"2\")\n",
    "                .config(\"spark.driver.memory\", \"2g\")\n",
    "                .config(\"spark.driver.cores\", \"1\")\n",
    "                .config(\"spark.master\", \"local[6]\")\n",
    "                .getOrCreate()\n",
    ")"
   ]
  }
 ],
 "metadata": {
  "kernelspec": {
   "display_name": "base",
   "language": "python",
   "name": "python3"
  },
  "language_info": {
   "codemirror_mode": {
    "name": "ipython",
    "version": 3
   },
   "file_extension": ".py",
   "mimetype": "text/x-python",
   "name": "python",
   "nbconvert_exporter": "python",
   "pygments_lexer": "ipython3",
   "version": "3.13.2"
  }
 },
 "nbformat": 4,
 "nbformat_minor": 5
}
